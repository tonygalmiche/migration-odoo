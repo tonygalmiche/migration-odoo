{
 "cells": [
  {
   "cell_type": "markdown",
   "metadata": {},
   "source": [
    "### Gestion des assets dans ir_attachment"
   ]
  },
  {
   "cell_type": "code",
   "execution_count": null,
   "metadata": {},
   "outputs": [],
   "source": [
    "#Dés le début avant l'insallation de modules : "
   ]
  },
  {
   "cell_type": "raw",
   "metadata": {},
   "source": [
    "pg-odoo16=# select id,name,url,store_fname from ir_attachment order by store_fname;\n",
    " id |                name                 |                            url                             |                 store_fname                 \n",
    "----+-------------------------------------+------------------------------------------------------------+---------------------------------------------\n",
    " 20 | web.assets_common.min.js            | /web/assets/20-618e3b2/web.assets_common.min.js            | 0f/0f921491626b5a5cc3781986b41f0eada00183f9\n",
    " 22 | web.assets_backend_prod_only.min.js | /web/assets/22-5594ca3/web.assets_backend_prod_only.min.js | 11/11a986456c50eb3cbc3189cebbf76f1910710f40\n",
    " 17 | web.assets_frontend_lazy.min.js     | /web/assets/17-941ba3e/web.assets_frontend_lazy.min.js     | 17/17e3a5370c372b4862afdbb677960ca1572bf0f2\n",
    "  1 | flag_image                          |                                                            | 23/23fe89f51c8121f053a697a3dd79106f25aeeb52\n",
    "  4 | favicon                             |                                                            | 2f/2f7028932480cdcb927f83b0165d577669e620fa\n",
    " 12 | web_icon_data                       |                                                            | 37/370346e9cc2090760bd32bba59f14042e98cd92e\n",
    "  2 | flag_image                          |                                                            | 62/627090759f9a66678c28c1bc3c3039b37f40f66e\n",
    " 16 | web.assets_frontend_minimal.min.js  | /web/assets/16-b92af47/web.assets_frontend_minimal.min.js  | 62/62c5b7a89b0d403892bdcc7232c103bd8cab81d6\n",
    " 14 | res.company.scss                    | web/static/asset_styles_company_report.scss                | 6a/6a8d2ce207c6f1860f379cf9f75c8cc497c06982\n",
    "  7 | image_256                           |                                                            | 77/7712910ea66effcd74ee140f5d145fe30000aa57\n",
    " 15 | web.assets_frontend.min.css         | /web/assets/15-2c982cf/web.assets_frontend.min.css         | 99/995020e1339700e66f6268ce113ba3416f9bdf9f\n",
    " 11 | web_icon_data                       |                                                            | a3/a330920abcef2433621d6bb985bc24828d77f77b\n",
    "  9 | web_icon_data                       |                                                            | ab/ab7e6730db0c9255c1a5c4373a2dec39f94058e5\n",
    " 19 | web.assets_backend.min.css          | /web/assets/19-0a60132/web.assets_backend.min.css          | ac/aca2cc7c1dd26d377118d45ef28a404d594be247\n",
    " 10 | web_icon_data                       |                                                            | b8/b8f9001425cfd0ef0315797909281b912817643a\n",
    " 21 | web.assets_backend.min.js           | /web/assets/21-0a60132/web.assets_backend.min.js           | c1/c18f4830b1b3a933ff796f864c2992b922e0cb1b\n",
    " 23 | bus.websocket_worker_assets.min.js  | /web/assets/23-5c74af0/bus.websocket_worker_assets.min.js  | c5/c5eeedd3e92d59317a5b8de291fd7fb9ddf6e7bb\n",
    "  6 | image_512                           |                                                            | d5/d5cce68bf4bb4ab57beaf766f3fb775cf8df0c83\n",
    "  5 | image_1024                          |                                                            | d5/d5cce68bf4bb4ab57beaf766f3fb775cf8df0c83\n",
    "  3 | image_1920                          |                                                            | d5/d5cce68bf4bb4ab57beaf766f3fb775cf8df0c83\n",
    "  8 | image_128                           |                                                            | e0/e0d4b5b2f41d6a523b47d17100558bf3084c67b1\n",
    " 18 | web.assets_common.min.css           | /web/assets/18-618e3b2/web.assets_common.min.css           | e8/e85270d8927f4ad505cfdb3bd21b51e2238da321\n",
    " 13 | placeholder.png                     | /web/static/img/placeholder.png                            | \n",
    "(23 lignes)"
   ]
  },
  {
   "cell_type": "code",
   "execution_count": null,
   "metadata": {},
   "outputs": [],
   "source": [
    "#Fichiers associés dans le filestore : "
   ]
  },
  {
   "cell_type": "raw",
   "metadata": {},
   "source": [
    "home/odoo/filestore/pg-odoo16/0f/0f921491626b5a5cc3781986b41f0eada00183f9\n",
    "home/odoo/filestore/pg-odoo16/11/11a986456c50eb3cbc3189cebbf76f1910710f40\n",
    "home/odoo/filestore/pg-odoo16/17/17e3a5370c372b4862afdbb677960ca1572bf0f2\n",
    "home/odoo/filestore/pg-odoo16/23/23fe89f51c8121f053a697a3dd79106f25aeeb52\n",
    "home/odoo/filestore/pg-odoo16/2f/2f7028932480cdcb927f83b0165d577669e620fa\n",
    "home/odoo/filestore/pg-odoo16/37/370346e9cc2090760bd32bba59f14042e98cd92e\n",
    "home/odoo/filestore/pg-odoo16/62/627090759f9a66678c28c1bc3c3039b37f40f66e\n",
    "home/odoo/filestore/pg-odoo16/62/62c5b7a89b0d403892bdcc7232c103bd8cab81d6\n",
    "home/odoo/filestore/pg-odoo16/6a/6a8d2ce207c6f1860f379cf9f75c8cc497c06982\n",
    "home/odoo/filestore/pg-odoo16/77/7712910ea66effcd74ee140f5d145fe30000aa57\n",
    "home/odoo/filestore/pg-odoo16/99/995020e1339700e66f6268ce113ba3416f9bdf9f\n",
    "home/odoo/filestore/pg-odoo16/a3/a330920abcef2433621d6bb985bc24828d77f77b\n",
    "home/odoo/filestore/pg-odoo16/ab/ab7e6730db0c9255c1a5c4373a2dec39f94058e5\n",
    "home/odoo/filestore/pg-odoo16/ac/aca2cc7c1dd26d377118d45ef28a404d594be247\n",
    "home/odoo/filestore/pg-odoo16/b8/b8f9001425cfd0ef0315797909281b912817643a\n",
    "home/odoo/filestore/pg-odoo16/c1/c18f4830b1b3a933ff796f864c2992b922e0cb1b\n",
    "home/odoo/filestore/pg-odoo16/c5/c5eeedd3e92d59317a5b8de291fd7fb9ddf6e7bb\n",
    "home/odoo/filestore/pg-odoo16/d5/d5cce68bf4bb4ab57beaf766f3fb775cf8df0c83\n",
    "home/odoo/filestore/pg-odoo16/e0/e0d4b5b2f41d6a523b47d17100558bf3084c67b1\n",
    "home/odoo/filestore/pg-odoo16/e8/e85270d8927f4ad505cfdb3bd21b51e2238da321"
   ]
  },
  {
   "cell_type": "code",
   "execution_count": null,
   "metadata": {},
   "outputs": [],
   "source": [
    "#La même liste triée par url : "
   ]
  },
  {
   "cell_type": "raw",
   "metadata": {},
   "source": [
    "pg-odoo16=# select id,name,url,store_fname from ir_attachment order by url;\n",
    " id |                name                 |                            url                             |                 store_fname                 \n",
    "----+-------------------------------------+------------------------------------------------------------+---------------------------------------------\n",
    " 15 | web.assets_frontend.min.css         | /web/assets/15-2c982cf/web.assets_frontend.min.css         | 99/995020e1339700e66f6268ce113ba3416f9bdf9f\n",
    " 16 | web.assets_frontend_minimal.min.js  | /web/assets/16-b92af47/web.assets_frontend_minimal.min.js  | 62/62c5b7a89b0d403892bdcc7232c103bd8cab81d6\n",
    " 17 | web.assets_frontend_lazy.min.js     | /web/assets/17-941ba3e/web.assets_frontend_lazy.min.js     | 17/17e3a5370c372b4862afdbb677960ca1572bf0f2\n",
    " 18 | web.assets_common.min.css           | /web/assets/18-618e3b2/web.assets_common.min.css           | e8/e85270d8927f4ad505cfdb3bd21b51e2238da321\n",
    " 19 | web.assets_backend.min.css          | /web/assets/19-0a60132/web.assets_backend.min.css          | ac/aca2cc7c1dd26d377118d45ef28a404d594be247\n",
    " 20 | web.assets_common.min.js            | /web/assets/20-618e3b2/web.assets_common.min.js            | 0f/0f921491626b5a5cc3781986b41f0eada00183f9\n",
    " 21 | web.assets_backend.min.js           | /web/assets/21-0a60132/web.assets_backend.min.js           | c1/c18f4830b1b3a933ff796f864c2992b922e0cb1b\n",
    " 22 | web.assets_backend_prod_only.min.js | /web/assets/22-5594ca3/web.assets_backend_prod_only.min.js | 11/11a986456c50eb3cbc3189cebbf76f1910710f40\n",
    " 23 | bus.websocket_worker_assets.min.js  | /web/assets/23-5c74af0/bus.websocket_worker_assets.min.js  | c5/c5eeedd3e92d59317a5b8de291fd7fb9ddf6e7bb\n",
    " 13 | placeholder.png                     | /web/static/img/placeholder.png                            | \n",
    " 14 | res.company.scss                    | web/static/asset_styles_company_report.scss                | 6a/6a8d2ce207c6f1860f379cf9f75c8cc497c06982"
   ]
  },
  {
   "cell_type": "code",
   "execution_count": null,
   "metadata": {},
   "outputs": [],
   "source": [
    "#Après l'installation du module \"Facturation\" : \n"
   ]
  },
  {
   "cell_type": "raw",
   "metadata": {},
   "source": [
    "pg-odoo16=# select id,name,url,store_fname from ir_attachment where url is not null order by url;\n",
    " id |                name                 |                            url                             |                 store_fname                 \n",
    "----+-------------------------------------+------------------------------------------------------------+---------------------------------------------\n",
    " 15 | web.assets_frontend.min.css         | /web/assets/15-2c982cf/web.assets_frontend.min.css         | 99/995020e1339700e66f6268ce113ba3416f9bdf9f\n",
    " 16 | web.assets_frontend_minimal.min.js  | /web/assets/16-b92af47/web.assets_frontend_minimal.min.js  | 62/62c5b7a89b0d403892bdcc7232c103bd8cab81d6\n",
    " 17 | web.assets_frontend_lazy.min.js     | /web/assets/17-941ba3e/web.assets_frontend_lazy.min.js     | 17/17e3a5370c372b4862afdbb677960ca1572bf0f2\n",
    " 18 | web.assets_common.min.css           | /web/assets/18-618e3b2/web.assets_common.min.css           | e8/e85270d8927f4ad505cfdb3bd21b51e2238da321\n",
    " 19 | web.assets_backend.min.css          | /web/assets/19-0a60132/web.assets_backend.min.css          | ac/aca2cc7c1dd26d377118d45ef28a404d594be247\n",
    " 20 | web.assets_common.min.js            | /web/assets/20-618e3b2/web.assets_common.min.js            | 0f/0f921491626b5a5cc3781986b41f0eada00183f9\n",
    " 21 | web.assets_backend.min.js           | /web/assets/21-0a60132/web.assets_backend.min.js           | c1/c18f4830b1b3a933ff796f864c2992b922e0cb1b\n",
    " 22 | web.assets_backend_prod_only.min.js | /web/assets/22-5594ca3/web.assets_backend_prod_only.min.js | 11/11a986456c50eb3cbc3189cebbf76f1910710f40\n",
    " 23 | bus.websocket_worker_assets.min.js  | /web/assets/23-5c74af0/bus.websocket_worker_assets.min.js  | c5/c5eeedd3e92d59317a5b8de291fd7fb9ddf6e7bb\n",
    " 13 | placeholder.png                     | /web/static/img/placeholder.png                            | \n",
    " 14 | res.company.scss                    | web/static/asset_styles_company_report.scss                | 6a/6a8d2ce207c6f1860f379cf9f75c8cc497c06982\n",
    "(11 lignes)\n"
   ]
  },
  {
   "cell_type": "code",
   "execution_count": null,
   "metadata": {},
   "outputs": [],
   "source": [
    "#Passage au style de mise en page \"boxed\"\n"
   ]
  },
  {
   "cell_type": "raw",
   "metadata": {},
   "source": [
    "\n",
    "\n",
    "pg-odoo16=# select id,name,url,store_fname from ir_attachment where url is not null order by url;\n",
    " id  |                name                 |                             url                             |                 store_fname                 \n",
    "-----+-------------------------------------+-------------------------------------------------------------+---------------------------------------------\n",
    " 108 | web.assets_common.min.css           | /web/assets/108-4689811/web.assets_common.min.css           | 04/041310504b8e06fa1dcd38e8701484d9945e896c\n",
    " 109 | web.assets_backend.min.css          | /web/assets/109-09fc20b/web.assets_backend.min.css          | f2/f210994d697cc9bb11f54e1dbc75bd1e54dc5049\n",
    " 110 | web.assets_common.min.js            | /web/assets/110-4689811/web.assets_common.min.js            | 1f/1ff566c37510b11c30a2ceb81ae98e67a96044f5\n",
    " 111 | web.assets_backend.min.js           | /web/assets/111-09fc20b/web.assets_backend.min.js           | 5f/5facb65da27600f93db2398a29cf3abd7362d126\n",
    " 112 | web.assets_backend_prod_only.min.js | /web/assets/112-c861f6b/web.assets_backend_prod_only.min.js | 08/08a77663181c46155da9062492e90c60adbbce66\n",
    " 114 | web_editor.assets_wysiwyg.min.css   | /web/assets/114-64cede2/web_editor.assets_wysiwyg.min.css   | fc/fc13522c2109b9baa46be5cc4d745a4e20ff03d6\n",
    " 115 | web_editor.assets_wysiwyg.min.js    | /web/assets/115-64cede2/web_editor.assets_wysiwyg.min.js    | 63/63b8767d0d7a11a9921a733058fca46171ef8741\n",
    " 116 | web.report_assets_common.min.css    | /web/assets/116-6bde56d/web.report_assets_common.min.css    | f0/f0ff228b2f5cce908ded21994a24de09c6ebb844\n",
    "  15 | web.assets_frontend.min.css         | /web/assets/15-2c982cf/web.assets_frontend.min.css          | 99/995020e1339700e66f6268ce113ba3416f9bdf9f\n",
    "  16 | web.assets_frontend_minimal.min.js  | /web/assets/16-b92af47/web.assets_frontend_minimal.min.js   | 62/62c5b7a89b0d403892bdcc7232c103bd8cab81d6\n",
    "  17 | web.assets_frontend_lazy.min.js     | /web/assets/17-941ba3e/web.assets_frontend_lazy.min.js      | 17/17e3a5370c372b4862afdbb677960ca1572bf0f2\n",
    "  23 | bus.websocket_worker_assets.min.js  | /web/assets/23-5c74af0/bus.websocket_worker_assets.min.js   | c5/c5eeedd3e92d59317a5b8de291fd7fb9ddf6e7bb\n",
    "  13 | placeholder.png                     | /web/static/img/placeholder.png                             | \n",
    "  14 | res.company.scss                    | web/static/asset_styles_company_report.scss                 | 06/06aa6f48df88fed75058c3bdf39688bdb765b65e\n",
    "(14 lignes)"
   ]
  },
  {
   "cell_type": "code",
   "execution_count": null,
   "metadata": {},
   "outputs": [],
   "source": [
    "#Passage au style de mise en page \"light\" qui était celui par défaut"
   ]
  },
  {
   "cell_type": "raw",
   "metadata": {},
   "source": [
    "\n",
    " id  |                name                 |                             url                             |                 store_fname                 \n",
    "-----+-------------------------------------+-------------------------------------------------------------+---------------------------------------------\n",
    " 108 | web.assets_common.min.css           | /web/assets/108-4689811/web.assets_common.min.css           | 04/041310504b8e06fa1dcd38e8701484d9945e896c\n",
    " 109 | web.assets_backend.min.css          | /web/assets/109-09fc20b/web.assets_backend.min.css          | f2/f210994d697cc9bb11f54e1dbc75bd1e54dc5049\n",
    " 110 | web.assets_common.min.js            | /web/assets/110-4689811/web.assets_common.min.js            | 1f/1ff566c37510b11c30a2ceb81ae98e67a96044f5\n",
    " 111 | web.assets_backend.min.js           | /web/assets/111-09fc20b/web.assets_backend.min.js           | 5f/5facb65da27600f93db2398a29cf3abd7362d126\n",
    " 112 | web.assets_backend_prod_only.min.js | /web/assets/112-c861f6b/web.assets_backend_prod_only.min.js | 08/08a77663181c46155da9062492e90c60adbbce66\n",
    " 114 | web_editor.assets_wysiwyg.min.css   | /web/assets/114-64cede2/web_editor.assets_wysiwyg.min.css   | fc/fc13522c2109b9baa46be5cc4d745a4e20ff03d6\n",
    " 115 | web_editor.assets_wysiwyg.min.js    | /web/assets/115-64cede2/web_editor.assets_wysiwyg.min.js    | 63/63b8767d0d7a11a9921a733058fca46171ef8741\n",
    " 117 | web.report_assets_common.min.css    | /web/assets/117-5d7ae6c/web.report_assets_common.min.css    | 81/812abc7235c7d2c26eec51c2491f15f003ffa8b8\n",
    "  15 | web.assets_frontend.min.css         | /web/assets/15-2c982cf/web.assets_frontend.min.css          | 99/995020e1339700e66f6268ce113ba3416f9bdf9f\n",
    "  16 | web.assets_frontend_minimal.min.js  | /web/assets/16-b92af47/web.assets_frontend_minimal.min.js   | 62/62c5b7a89b0d403892bdcc7232c103bd8cab81d6\n",
    "  17 | web.assets_frontend_lazy.min.js     | /web/assets/17-941ba3e/web.assets_frontend_lazy.min.js      | 17/17e3a5370c372b4862afdbb677960ca1572bf0f2\n",
    "  23 | bus.websocket_worker_assets.min.js  | /web/assets/23-5c74af0/bus.websocket_worker_assets.min.js   | c5/c5eeedd3e92d59317a5b8de291fd7fb9ddf6e7bb\n",
    "  13 | placeholder.png                     | /web/static/img/placeholder.png                             | \n",
    "  14 | res.company.scss                    | web/static/asset_styles_company_report.scss                 | 58/58a1280cf6e1e8b7f5ee3713c7ababe5c4d822cb\n",
    "(14 lignes)"
   ]
  },
  {
   "cell_type": "code",
   "execution_count": null,
   "metadata": {},
   "outputs": [],
   "source": [
    "#Passage au style de mise en page \"Striped\" qui était celui par défaut"
   ]
  },
  {
   "cell_type": "raw",
   "metadata": {},
   "source": [
    "g-odoo16=# select id,name,url,store_fname from ir_attachment where url is not null order by url;\n",
    " id  |                name                 |                             url                             |                 store_fname                 \n",
    "-----+-------------------------------------+-------------------------------------------------------------+---------------------------------------------\n",
    " 108 | web.assets_common.min.css           | /web/assets/108-4689811/web.assets_common.min.css           | 04/041310504b8e06fa1dcd38e8701484d9945e896c\n",
    " 109 | web.assets_backend.min.css          | /web/assets/109-09fc20b/web.assets_backend.min.css          | f2/f210994d697cc9bb11f54e1dbc75bd1e54dc5049\n",
    " 110 | web.assets_common.min.js            | /web/assets/110-4689811/web.assets_common.min.js            | 1f/1ff566c37510b11c30a2ceb81ae98e67a96044f5\n",
    " 111 | web.assets_backend.min.js           | /web/assets/111-09fc20b/web.assets_backend.min.js           | 5f/5facb65da27600f93db2398a29cf3abd7362d126\n",
    " 112 | web.assets_backend_prod_only.min.js | /web/assets/112-c861f6b/web.assets_backend_prod_only.min.js | 08/08a77663181c46155da9062492e90c60adbbce66\n",
    " 114 | web_editor.assets_wysiwyg.min.css   | /web/assets/114-64cede2/web_editor.assets_wysiwyg.min.css   | fc/fc13522c2109b9baa46be5cc4d745a4e20ff03d6\n",
    " 115 | web_editor.assets_wysiwyg.min.js    | /web/assets/115-64cede2/web_editor.assets_wysiwyg.min.js    | 63/63b8767d0d7a11a9921a733058fca46171ef8741\n",
    " 118 | web.report_assets_common.min.css    | /web/assets/118-4e6b9b1/web.report_assets_common.min.css    | 12/1222aa23867d4b2c1cbc73e77e6b1e69a041b330\n",
    "  15 | web.assets_frontend.min.css         | /web/assets/15-2c982cf/web.assets_frontend.min.css          | 99/995020e1339700e66f6268ce113ba3416f9bdf9f\n",
    "  16 | web.assets_frontend_minimal.min.js  | /web/assets/16-b92af47/web.assets_frontend_minimal.min.js   | 62/62c5b7a89b0d403892bdcc7232c103bd8cab81d6\n",
    "  17 | web.assets_frontend_lazy.min.js     | /web/assets/17-941ba3e/web.assets_frontend_lazy.min.js      | 17/17e3a5370c372b4862afdbb677960ca1572bf0f2\n",
    "  23 | bus.websocket_worker_assets.min.js  | /web/assets/23-5c74af0/bus.websocket_worker_assets.min.js   | c5/c5eeedd3e92d59317a5b8de291fd7fb9ddf6e7bb\n",
    "  13 | placeholder.png                     | /web/static/img/placeholder.png                             | \n",
    "  14 | res.company.scss                    | web/static/asset_styles_company_report.scss                 | 64/6456d04ff5afc42e98bf07ee9bb61c45b748e081\n",
    "(14 lignes)"
   ]
  },
  {
   "cell_type": "code",
   "execution_count": null,
   "metadata": {},
   "outputs": [],
   "source": [
    "#Passage au style de mise en page \"light\" qui était celui par défaut"
   ]
  },
  {
   "cell_type": "raw",
   "metadata": {},
   "source": [
    "pg-odoo16=# select id,name,url,store_fname from ir_attachment where url is not null order by url;\n",
    " id  |                name                 |                             url                             |                 store_fname                 \n",
    "-----+-------------------------------------+-------------------------------------------------------------+---------------------------------------------\n",
    " 108 | web.assets_common.min.css           | /web/assets/108-4689811/web.assets_common.min.css           | 04/041310504b8e06fa1dcd38e8701484d9945e896c\n",
    " 109 | web.assets_backend.min.css          | /web/assets/109-09fc20b/web.assets_backend.min.css          | f2/f210994d697cc9bb11f54e1dbc75bd1e54dc5049\n",
    " 110 | web.assets_common.min.js            | /web/assets/110-4689811/web.assets_common.min.js            | 1f/1ff566c37510b11c30a2ceb81ae98e67a96044f5\n",
    " 111 | web.assets_backend.min.js           | /web/assets/111-09fc20b/web.assets_backend.min.js           | 5f/5facb65da27600f93db2398a29cf3abd7362d126\n",
    " 112 | web.assets_backend_prod_only.min.js | /web/assets/112-c861f6b/web.assets_backend_prod_only.min.js | 08/08a77663181c46155da9062492e90c60adbbce66\n",
    " 114 | web_editor.assets_wysiwyg.min.css   | /web/assets/114-64cede2/web_editor.assets_wysiwyg.min.css   | fc/fc13522c2109b9baa46be5cc4d745a4e20ff03d6\n",
    " 115 | web_editor.assets_wysiwyg.min.js    | /web/assets/115-64cede2/web_editor.assets_wysiwyg.min.js    | 63/63b8767d0d7a11a9921a733058fca46171ef8741\n",
    " 119 | web.report_assets_common.min.css    | /web/assets/119-4e6f2e5/web.report_assets_common.min.css    | 81/812abc7235c7d2c26eec51c2491f15f003ffa8b8\n",
    "  15 | web.assets_frontend.min.css         | /web/assets/15-2c982cf/web.assets_frontend.min.css          | 99/995020e1339700e66f6268ce113ba3416f9bdf9f\n",
    "  16 | web.assets_frontend_minimal.min.js  | /web/assets/16-b92af47/web.assets_frontend_minimal.min.js   | 62/62c5b7a89b0d403892bdcc7232c103bd8cab81d6\n",
    "  17 | web.assets_frontend_lazy.min.js     | /web/assets/17-941ba3e/web.assets_frontend_lazy.min.js      | 17/17e3a5370c372b4862afdbb677960ca1572bf0f2\n",
    "  23 | bus.websocket_worker_assets.min.js  | /web/assets/23-5c74af0/bus.websocket_worker_assets.min.js   | c5/c5eeedd3e92d59317a5b8de291fd7fb9ddf6e7bb\n",
    "  13 | placeholder.png                     | /web/static/img/placeholder.png                             | \n",
    "  14 | res.company.scss                    | web/static/asset_styles_company_report.scss                 | 58/58a1280cf6e1e8b7f5ee3713c7ababe5c4d822cb\n",
    "(14 lignes)"
   ]
  },
  {
   "cell_type": "code",
   "execution_count": null,
   "metadata": {},
   "outputs": [],
   "source": [
    "#A chaque changement de mise en page, cet asset est régééré et les autres sont inchangés\n",
    "#web.report_assets_common.min.css\n",
    "#Si je supprimer les assets (sauf 'res.company.scss') ceux-ci sont paritennement regénrés au prochain démarage d'Odoo et en conservant le même store_fname"
   ]
  },
  {
   "cell_type": "raw",
   "metadata": {},
   "source": [
    "pg-odoo16=# delete from ir_attachment where name<>'res.company.scss';\n",
    "pg-odoo16=# select id,name,url,store_fname from ir_attachment where url is not null order by url;\n",
    " id  |                name                 |                             url                             |                 store_fname                 \n",
    "-----+-------------------------------------+-------------------------------------------------------------+---------------------------------------------\n",
    " 120 | web.assets_common.min.css           | /web/assets/120-4689811/web.assets_common.min.css           | 04/041310504b8e06fa1dcd38e8701484d9945e896c\n",
    " 121 | web.assets_backend.min.css          | /web/assets/121-09fc20b/web.assets_backend.min.css          | f2/f210994d697cc9bb11f54e1dbc75bd1e54dc5049\n",
    " 122 | web.assets_common.min.js            | /web/assets/122-4689811/web.assets_common.min.js            | 1f/1ff566c37510b11c30a2ceb81ae98e67a96044f5\n",
    " 123 | web.assets_backend.min.js           | /web/assets/123-09fc20b/web.assets_backend.min.js           | 5f/5facb65da27600f93db2398a29cf3abd7362d126\n",
    " 124 | web.assets_backend_prod_only.min.js | /web/assets/124-c861f6b/web.assets_backend_prod_only.min.js | 08/08a77663181c46155da9062492e90c60adbbce66\n",
    " 125 | bus.websocket_worker_assets.min.js  | /web/assets/125-5c74af0/bus.websocket_worker_assets.min.js  | c5/c5eeedd3e92d59317a5b8de291fd7fb9ddf6e7bb\n",
    "  14 | res.company.scss                    | web/static/asset_styles_company_report.scss                 | 58/58a1280cf6e1e8b7f5ee3713c7ababe5c4d822cb\n",
    "(7 lignes)"
   ]
  },
  {
   "cell_type": "code",
   "execution_count": null,
   "metadata": {},
   "outputs": [],
   "source": [
    "#Passage au style de mise en page \"light\" qui était celui par défaut => Cela regenre 'web.report_assets_common.min.css' avec le même store_fname et 2 autres assets"
   ]
  },
  {
   "cell_type": "raw",
   "metadata": {},
   "source": [
    "pg-odoo16=# select id,name,url,store_fname from ir_attachment where url is not null order by url;\n",
    " id  |                name                 |                             url                             |                 store_fname                 \n",
    "-----+-------------------------------------+-------------------------------------------------------------+---------------------------------------------\n",
    " 120 | web.assets_common.min.css           | /web/assets/120-4689811/web.assets_common.min.css           | 04/041310504b8e06fa1dcd38e8701484d9945e896c\n",
    " 121 | web.assets_backend.min.css          | /web/assets/121-09fc20b/web.assets_backend.min.css          | f2/f210994d697cc9bb11f54e1dbc75bd1e54dc5049\n",
    " 122 | web.assets_common.min.js            | /web/assets/122-4689811/web.assets_common.min.js            | 1f/1ff566c37510b11c30a2ceb81ae98e67a96044f5\n",
    " 123 | web.assets_backend.min.js           | /web/assets/123-09fc20b/web.assets_backend.min.js           | 5f/5facb65da27600f93db2398a29cf3abd7362d126\n",
    " 124 | web.assets_backend_prod_only.min.js | /web/assets/124-c861f6b/web.assets_backend_prod_only.min.js | 08/08a77663181c46155da9062492e90c60adbbce66\n",
    " 125 | bus.websocket_worker_assets.min.js  | /web/assets/125-5c74af0/bus.websocket_worker_assets.min.js  | c5/c5eeedd3e92d59317a5b8de291fd7fb9ddf6e7bb\n",
    " 127 | web_editor.assets_wysiwyg.min.css   | /web/assets/127-64cede2/web_editor.assets_wysiwyg.min.css   | fc/fc13522c2109b9baa46be5cc4d745a4e20ff03d6\n",
    " 128 | web_editor.assets_wysiwyg.min.js    | /web/assets/128-64cede2/web_editor.assets_wysiwyg.min.js    | 63/63b8767d0d7a11a9921a733058fca46171ef8741\n",
    " 130 | web.report_assets_common.min.css    | /web/assets/130-cb3974f/web.report_assets_common.min.css    | 81/812abc7235c7d2c26eec51c2491f15f003ffa8b8\n",
    "  14 | res.company.scss                    | web/static/asset_styles_company_report.scss                 | 58/58a1280cf6e1e8b7f5ee3713c7ababe5c4d822cb\n",
    "(10 lignes)"
   ]
  },
  {
   "cell_type": "code",
   "execution_count": null,
   "metadata": {},
   "outputs": [],
   "source": [
    "\n",
    "#Après l'installation de is_plastigray16"
   ]
  },
  {
   "cell_type": "raw",
   "metadata": {},
   "source": [
    "pg-odoo16=# select id,name,url,store_fname from ir_attachment where url is not null order by url;\n",
    " id  |                name                 |                             url                             |                 store_fname                 \n",
    "-----+-------------------------------------+-------------------------------------------------------------+---------------------------------------------\n",
    " 119 | web.assets_common.min.css           | /web/assets/119-1568187/web.assets_common.min.css           | 00/00e188a4cab30a9a5f774c3590516df593ef52da\n",
    " 120 | web.assets_backend.min.css          | /web/assets/120-21887f8/web.assets_backend.min.css          | 85/8543baf9603d699af7e5aa4bbb381d2d807b98fa\n",
    " 121 | web.assets_common.min.js            | /web/assets/121-1568187/web.assets_common.min.js            | 1f/1ff566c37510b11c30a2ceb81ae98e67a96044f5\n",
    " 122 | web.assets_backend.min.js           | /web/assets/122-21887f8/web.assets_backend.min.js           | 80/8039907660698326773719fa65c4c8f8d8e63cb1\n",
    " 123 | web.assets_backend_prod_only.min.js | /web/assets/123-c861f6b/web.assets_backend_prod_only.min.js | 08/08a77663181c46155da9062492e90c60adbbce66\n",
    "  15 | web.assets_frontend.min.css         | /web/assets/15-2c982cf/web.assets_frontend.min.css          | 99/995020e1339700e66f6268ce113ba3416f9bdf9f\n",
    "  16 | web.assets_frontend_minimal.min.js  | /web/assets/16-b92af47/web.assets_frontend_minimal.min.js   | 62/62c5b7a89b0d403892bdcc7232c103bd8cab81d6\n",
    "  17 | web.assets_frontend_lazy.min.js     | /web/assets/17-941ba3e/web.assets_frontend_lazy.min.js      | 17/17e3a5370c372b4862afdbb677960ca1572bf0f2\n",
    "  23 | bus.websocket_worker_assets.min.js  | /web/assets/23-5c74af0/bus.websocket_worker_assets.min.js   | c5/c5eeedd3e92d59317a5b8de291fd7fb9ddf6e7bb\n",
    "  13 | placeholder.png                     | /web/static/img/placeholder.png                             | \n",
    "  14 | res.company.scss                    | web/static/asset_styles_company_report.scss                 | 6a/6a8d2ce207c6f1860f379cf9f75c8cc497c06982\n",
    "(11 lignes)"
   ]
  },
  {
   "cell_type": "code",
   "execution_count": null,
   "metadata": {},
   "outputs": [],
   "source": [
    "#Après la validation de la mise en page de type 'Light'"
   ]
  },
  {
   "cell_type": "raw",
   "metadata": {},
   "source": [
    "pg-odoo16=# select id,name,url,store_fname from ir_attachment where url is not null order by url;\n",
    " id  |                name                 |                             url                             |                 store_fname                 \n",
    "-----+-------------------------------------+-------------------------------------------------------------+---------------------------------------------\n",
    " 119 | web.assets_common.min.css           | /web/assets/119-1568187/web.assets_common.min.css           | 00/00e188a4cab30a9a5f774c3590516df593ef52da\n",
    " 120 | web.assets_backend.min.css          | /web/assets/120-21887f8/web.assets_backend.min.css          | 85/8543baf9603d699af7e5aa4bbb381d2d807b98fa\n",
    " 121 | web.assets_common.min.js            | /web/assets/121-1568187/web.assets_common.min.js            | 1f/1ff566c37510b11c30a2ceb81ae98e67a96044f5\n",
    " 122 | web.assets_backend.min.js           | /web/assets/122-21887f8/web.assets_backend.min.js           | 80/8039907660698326773719fa65c4c8f8d8e63cb1\n",
    " 123 | web.assets_backend_prod_only.min.js | /web/assets/123-c861f6b/web.assets_backend_prod_only.min.js | 08/08a77663181c46155da9062492e90c60adbbce66\n",
    " 125 | web_editor.assets_wysiwyg.min.css   | /web/assets/125-74f9c24/web_editor.assets_wysiwyg.min.css   | 22/228deb93e5a64f1c62c8a0be9010b8fb1dcb5052\n",
    " 126 | web_editor.assets_wysiwyg.min.js    | /web/assets/126-74f9c24/web_editor.assets_wysiwyg.min.js    | 63/63b8767d0d7a11a9921a733058fca46171ef8741\n",
    " 127 | web.report_assets_common.min.css    | /web/assets/127-fc84144/web.report_assets_common.min.css    | f0/f0ad161f361401f1ce92791bf63f5ceced266bf3\n",
    "  15 | web.assets_frontend.min.css         | /web/assets/15-2c982cf/web.assets_frontend.min.css          | 99/995020e1339700e66f6268ce113ba3416f9bdf9f\n",
    "  16 | web.assets_frontend_minimal.min.js  | /web/assets/16-b92af47/web.assets_frontend_minimal.min.js   | 62/62c5b7a89b0d403892bdcc7232c103bd8cab81d6\n",
    "  17 | web.assets_frontend_lazy.min.js     | /web/assets/17-941ba3e/web.assets_frontend_lazy.min.js      | 17/17e3a5370c372b4862afdbb677960ca1572bf0f2\n",
    "  23 | bus.websocket_worker_assets.min.js  | /web/assets/23-5c74af0/bus.websocket_worker_assets.min.js   | c5/c5eeedd3e92d59317a5b8de291fd7fb9ddf6e7bb\n",
    "  13 | placeholder.png                     | /web/static/img/placeholder.png                             | \n",
    "  14 | res.company.scss                    | web/static/asset_styles_company_report.scss                 | 58/58a1280cf6e1e8b7f5ee3713c7ababe5c4d822cb\n",
    "(14 lignes)"
   ]
  },
  {
   "cell_type": "code",
   "execution_count": null,
   "metadata": {},
   "outputs": [],
   "source": [
    "# Pour la migration de pg-odoo16-1, si je vide la table ir_attachment et que je fait un rsync du filestore avec odoo8, la connexion \n",
    "# à odoo fonctionne sans problème et les assets suivant sont à nouveau généré : \n",
    "\n",
    "# Mais si j'esssaye de configurer la mise en page, j'ai ce message d'erreur\n",
    "#   The style compilation failed, see the error below. Your recent actions may be the cause, please try reverting the changes you made.\n",
    "#   Could not get content for web/static/asset_styles_company_report.scss.\n",
    "# => Il ne fallait pas suprimer l'asset 'asset_styles_company_report.scss' dans ir_attachment\n",
    "# => Si je récupere cet asset d'une base vierge et que je reconfigure la mise en page, il faut ensuite récupérr les assets du filesrtor d'une base vierge\n",
    "#  pour que cela fonctionne"
   ]
  },
  {
   "cell_type": "raw",
   "metadata": {},
   "source": [
    "pg-odoo16-1=# select id,name,url,store_fname from ir_attachment where url is not null order by url;\n",
    " id  |                name                 |                             url                             |                 store_fname                 \n",
    "-----+-------------------------------------+-------------------------------------------------------------+---------------------------------------------\n",
    " 232 | web.assets_frontend.min.css         | /web/assets/232-f8a5552/web.assets_frontend.min.css         | c3/c3a75ffdd5fef950bf9b7a4308a4f6bd32a1f681\n",
    " 233 | web.assets_frontend_minimal.min.js  | /web/assets/233-b92af47/web.assets_frontend_minimal.min.js  | 62/62c5b7a89b0d403892bdcc7232c103bd8cab81d6\n",
    " 234 | web.assets_frontend_lazy.min.js     | /web/assets/234-c0cd3c0/web.assets_frontend_lazy.min.js     | 04/046c8ad823422ebf1a49b302360924416dad6251\n",
    " 235 | web.assets_common.min.css           | /web/assets/235-1568187/web.assets_common.min.css           | 00/00e188a4cab30a9a5f774c3590516df593ef52da\n",
    " 236 | web.assets_backend.min.css          | /web/assets/236-21887f8/web.assets_backend.min.css          | 85/8543baf9603d699af7e5aa4bbb381d2d807b98fa\n",
    " 237 | web.assets_common.min.js            | /web/assets/237-1568187/web.assets_common.min.js            | 1f/1ff566c37510b11c30a2ceb81ae98e67a96044f5\n",
    " 238 | web.assets_backend.min.js           | /web/assets/238-21887f8/web.assets_backend.min.js           | 80/8039907660698326773719fa65c4c8f8d8e63cb1\n",
    " 239 | web.assets_backend_prod_only.min.js | /web/assets/239-c861f6b/web.assets_backend_prod_only.min.js | 08/08a77663181c46155da9062492e90c60adbbce66\n",
    " 240 | bus.websocket_worker_assets.min.js  | /web/assets/240-5c74af0/bus.websocket_worker_assets.min.js  | c5/c5eeedd3e92d59317a5b8de291fd7fb9ddf6e7bb\n",
    "(9 lignes)\n"
   ]
  },
  {
   "cell_type": "code",
   "execution_count": null,
   "metadata": {},
   "outputs": [],
   "source": [
    "# Malgré la suppression des assets, le rapport PDF fonctionne toujours (y-compris) le numéro de page qui ne fonctionnait plus \n",
    "#lors de l'un de mes essais\n",
    "\n",
    "# Conclusion : \n",
    "# - Il est important de ne pas supprimer l'enregistrement 'res.company.scss'\n",
    "# - Pour les autres assets, il faut juste s'assurer que le store_fname est bien présent dans le filestore\n",
    "# - A chaque changement de mise en page, l'asset 'web.report_assets_common.min.css' est régénéré et les autres sont inchangés\n",
    "# - Le store_fname de l'asset 'res.company.scss' est modifié à chaque changement de mise en plage . Il est donc important que celui-ci soit \n",
    "# récupéré dans le cadre d'une migration\n",
    "# - Le store_fname de l'asset 'res.company.scss' change en fonction de la mise en page, mais est toujours le même pour une même mise\n",
    "# en page. Le nom doit être lié au contenu de type md5sum. Il n'y a donc aucune probalbilité que ce store_fanme soit utilsé par une\n",
    "# autre piece joint apèrs un rsync\n",
    "\n"
   ]
  }
 ],
 "metadata": {
  "kernelspec": {
   "display_name": "Python 3",
   "language": "python",
   "name": "python3"
  },
  "language_info": {
   "codemirror_mode": {
    "name": "ipython",
    "version": 3
   },
   "file_extension": ".py",
   "mimetype": "text/x-python",
   "name": "python",
   "nbconvert_exporter": "python",
   "pygments_lexer": "ipython3",
   "version": "3.7.16"
  },
  "orig_nbformat": 4
 },
 "nbformat": 4,
 "nbformat_minor": 2
}
